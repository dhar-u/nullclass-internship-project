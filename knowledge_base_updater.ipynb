{
 "cells": [
  {
   "cell_type": "code",
   "execution_count": 1,
   "id": "bde2ab41",
   "metadata": {},
   "outputs": [],
   "source": [
    "from langchain.document_loaders import PyMuPDFLoader\n",
    "from langchain.text_splitter import RecursiveCharacterTextSplitter\n",
    "from langchain.embeddings import OpenAIEmbeddings\n",
    "from langchain.vectorstores import FAISS\n",
    "import os\n",
    "\n"
   ]
  },
  {
   "cell_type": "code",
   "execution_count": 2,
   "id": "0a9a1c5b",
   "metadata": {},
   "outputs": [
    {
     "name": "stdout",
     "output_type": "stream",
     "text": [
      "Loaded 1 pages\n",
      "PDF Test File \n",
      " \n",
      "Congratulations, your computer is equipped with a PDF (Portable Document Format) \n",
      "reader!  You should be able to view any of the PDF documents and forms available on \n",
      "our site.  PDF forms are indicated by these icons: \n",
      "  or  \n",
      ".   \n",
      " \n",
      "Yukon Department of Education \n",
      "Box 2703 \n",
      "Whitehors\n"
     ]
    }
   ],
   "source": [
    "loader = PyMuPDFLoader(\"mydoc.pdf\")\n",
    "docs = loader.load()\n",
    "print(f\"Loaded {len(docs)} pages\")\n",
    "print(docs[0].page_content[:300])\n"
   ]
  },
  {
   "cell_type": "code",
   "execution_count": 3,
   "id": "b9ea339f",
   "metadata": {},
   "outputs": [
    {
     "name": "stdout",
     "output_type": "stream",
     "text": [
      "Total chunks created: 1\n",
      "PDF Test File \n",
      " \n",
      "Congratulations, your computer is equipped with a PDF (Portable Document Format) \n",
      "reader!  You should be able to view any of the PDF documents and forms available on \n",
      "our site.  PDF forms are indicated by these icons: \n",
      "  or  \n",
      ".   \n",
      " \n",
      "Yukon Department of Education \n",
      "Box 2703 \n",
      "Whitehors\n"
     ]
    }
   ],
   "source": [
    "from langchain.text_splitter import RecursiveCharacterTextSplitter\n",
    "\n",
    "# Split the document into smaller chunks\n",
    "text_splitter = RecursiveCharacterTextSplitter(\n",
    "    chunk_size=500,\n",
    "    chunk_overlap=100\n",
    ")\n",
    "\n",
    "# Apply the splitter to your loaded docs\n",
    "chunks = text_splitter.split_documents(docs)\n",
    "\n",
    "print(f\"Total chunks created: {len(chunks)}\")\n",
    "print(chunks[0].page_content[:300])  # preview first chunk\n"
   ]
  },
  {
   "cell_type": "code",
   "execution_count": 5,
   "id": "9b56ea92",
   "metadata": {},
   "outputs": [],
   "source": [
    "!pip install langchain\n"
   ]
  },
  {
   "cell_type": "code",
   "execution_count": 6,
   "id": "6f25bb20",
   "metadata": {},
   "outputs": [
    {
     "name": "stdout",
     "output_type": "stream",
     "text": [
      "Collecting sentence-transformers\n",
      "  Downloading sentence_transformers-5.0.0-py3-none-any.whl.metadata (16 kB)\n",
      "Collecting transformers<5.0.0,>=4.41.0 (from sentence-transformers)\n",
      "  Downloading transformers-4.54.1-py3-none-any.whl.metadata (41 kB)\n",
      "Requirement already satisfied: tqdm in c:\\users\\dell\\anaconda3\\lib\\site-packages (from sentence-transformers) (4.66.5)\n",
      "Collecting torch>=1.11.0 (from sentence-transformers)\n",
      "  Downloading torch-2.7.1-cp312-cp312-win_amd64.whl.metadata (28 kB)\n",
      "Requirement already satisfied: scikit-learn in c:\\users\\dell\\anaconda3\\lib\\site-packages (from sentence-transformers) (1.5.1)\n",
      "Requirement already satisfied: scipy in c:\\users\\dell\\anaconda3\\lib\\site-packages (from sentence-transformers) (1.13.1)\n",
      "Collecting huggingface-hub>=0.20.0 (from sentence-transformers)\n",
      "  Downloading huggingface_hub-0.34.3-py3-none-any.whl.metadata (14 kB)\n",
      "Requirement already satisfied: Pillow in c:\\users\\dell\\anaconda3\\lib\\site-packages (from sentence-transformers) (10.4.0)\n",
      "Requirement already satisfied: typing_extensions>=4.5.0 in c:\\users\\dell\\anaconda3\\lib\\site-packages (from sentence-transformers) (4.11.0)\n",
      "Requirement already satisfied: filelock in c:\\users\\dell\\anaconda3\\lib\\site-packages (from huggingface-hub>=0.20.0->sentence-transformers) (3.13.1)\n",
      "Requirement already satisfied: fsspec>=2023.5.0 in c:\\users\\dell\\anaconda3\\lib\\site-packages (from huggingface-hub>=0.20.0->sentence-transformers) (2024.6.1)\n",
      "Requirement already satisfied: packaging>=20.9 in c:\\users\\dell\\anaconda3\\lib\\site-packages (from huggingface-hub>=0.20.0->sentence-transformers) (24.1)\n",
      "Requirement already satisfied: pyyaml>=5.1 in c:\\users\\dell\\anaconda3\\lib\\site-packages (from huggingface-hub>=0.20.0->sentence-transformers) (6.0.1)\n",
      "Requirement already satisfied: requests in c:\\users\\dell\\anaconda3\\lib\\site-packages (from huggingface-hub>=0.20.0->sentence-transformers) (2.32.3)\n",
      "Collecting sympy>=1.13.3 (from torch>=1.11.0->sentence-transformers)\n",
      "  Using cached sympy-1.14.0-py3-none-any.whl.metadata (12 kB)\n",
      "Requirement already satisfied: networkx in c:\\users\\dell\\anaconda3\\lib\\site-packages (from torch>=1.11.0->sentence-transformers) (3.3)\n",
      "Requirement already satisfied: jinja2 in c:\\users\\dell\\anaconda3\\lib\\site-packages (from torch>=1.11.0->sentence-transformers) (3.1.4)\n",
      "Requirement already satisfied: setuptools in c:\\users\\dell\\anaconda3\\lib\\site-packages (from torch>=1.11.0->sentence-transformers) (75.1.0)\n",
      "Requirement already satisfied: colorama in c:\\users\\dell\\anaconda3\\lib\\site-packages (from tqdm->sentence-transformers) (0.4.6)\n",
      "Requirement already satisfied: numpy>=1.17 in c:\\users\\dell\\anaconda3\\lib\\site-packages (from transformers<5.0.0,>=4.41.0->sentence-transformers) (1.26.4)\n",
      "Requirement already satisfied: regex!=2019.12.17 in c:\\users\\dell\\anaconda3\\lib\\site-packages (from transformers<5.0.0,>=4.41.0->sentence-transformers) (2024.9.11)\n",
      "Collecting tokenizers<0.22,>=0.21 (from transformers<5.0.0,>=4.41.0->sentence-transformers)\n",
      "  Downloading tokenizers-0.21.4-cp39-abi3-win_amd64.whl.metadata (6.9 kB)\n",
      "Collecting safetensors>=0.4.3 (from transformers<5.0.0,>=4.41.0->sentence-transformers)\n",
      "  Using cached safetensors-0.5.3-cp38-abi3-win_amd64.whl.metadata (3.9 kB)\n",
      "Requirement already satisfied: joblib>=1.2.0 in c:\\users\\dell\\anaconda3\\lib\\site-packages (from scikit-learn->sentence-transformers) (1.4.2)\n",
      "Requirement already satisfied: threadpoolctl>=3.1.0 in c:\\users\\dell\\anaconda3\\lib\\site-packages (from scikit-learn->sentence-transformers) (3.5.0)\n",
      "Requirement already satisfied: mpmath<1.4,>=1.1.0 in c:\\users\\dell\\anaconda3\\lib\\site-packages (from sympy>=1.13.3->torch>=1.11.0->sentence-transformers) (1.3.0)\n",
      "Requirement already satisfied: MarkupSafe>=2.0 in c:\\users\\dell\\anaconda3\\lib\\site-packages (from jinja2->torch>=1.11.0->sentence-transformers) (2.1.3)\n",
      "Requirement already satisfied: charset-normalizer<4,>=2 in c:\\users\\dell\\anaconda3\\lib\\site-packages (from requests->huggingface-hub>=0.20.0->sentence-transformers) (3.3.2)\n",
      "Requirement already satisfied: idna<4,>=2.5 in c:\\users\\dell\\anaconda3\\lib\\site-packages (from requests->huggingface-hub>=0.20.0->sentence-transformers) (3.7)\n",
      "Requirement already satisfied: urllib3<3,>=1.21.1 in c:\\users\\dell\\anaconda3\\lib\\site-packages (from requests->huggingface-hub>=0.20.0->sentence-transformers) (2.2.3)\n",
      "Requirement already satisfied: certifi>=2017.4.17 in c:\\users\\dell\\anaconda3\\lib\\site-packages (from requests->huggingface-hub>=0.20.0->sentence-transformers) (2025.1.31)\n",
      "Downloading sentence_transformers-5.0.0-py3-none-any.whl (470 kB)\n",
      "Downloading huggingface_hub-0.34.3-py3-none-any.whl (558 kB)\n",
      "   ---------------------------------------- 0.0/558.8 kB ? eta -:--:--\n",
      "   ---------------------------------------- 558.8/558.8 kB 3.8 MB/s eta 0:00:00\n",
      "Downloading torch-2.7.1-cp312-cp312-win_amd64.whl (216.1 MB)\n",
      "   ---------------------------------------- 0.0/216.1 MB ? eta -:--:--\n",
      "   ---------------------------------------- 0.8/216.1 MB 4.8 MB/s eta 0:00:46\n",
      "   ---------------------------------------- 1.8/216.1 MB 4.0 MB/s eta 0:00:54\n",
      "   ---------------------------------------- 2.4/216.1 MB 4.1 MB/s eta 0:00:53\n",
      "    --------------------------------------- 3.4/216.1 MB 4.0 MB/s eta 0:00:53\n",
      "    --------------------------------------- 4.2/216.1 MB 4.0 MB/s eta 0:00:54\n",
      "    --------------------------------------- 5.0/216.1 MB 4.0 MB/s eta 0:00:54\n",
      "   - -------------------------------------- 6.0/216.1 MB 3.9 MB/s eta 0:00:54\n",
      "   - -------------------------------------- 6.6/216.1 MB 3.9 MB/s eta 0:00:54\n",
      "   - -------------------------------------- 7.6/216.1 MB 3.9 MB/s eta 0:00:54\n",
      "   - -------------------------------------- 8.4/216.1 MB 3.9 MB/s eta 0:00:53\n",
      "   - -------------------------------------- 9.2/216.1 MB 3.9 MB/s eta 0:00:53\n",
      "   - -------------------------------------- 10.0/216.1 MB 3.9 MB/s eta 0:00:53\n",
      "   -- ------------------------------------- 11.0/216.1 MB 3.9 MB/s eta 0:00:53\n",
      "   -- ------------------------------------- 11.8/216.1 MB 3.9 MB/s eta 0:00:53\n",
      "   -- ------------------------------------- 12.6/216.1 MB 3.9 MB/s eta 0:00:53\n",
      "   -- ------------------------------------- 13.4/216.1 MB 3.9 MB/s eta 0:00:52\n",
      "   -- ------------------------------------- 14.2/216.1 MB 3.9 MB/s eta 0:00:52\n",
      "   -- ------------------------------------- 14.9/216.1 MB 3.9 MB/s eta 0:00:52\n",
      "   -- ------------------------------------- 15.7/216.1 MB 3.9 MB/s eta 0:00:52\n",
      "   --- ------------------------------------ 16.5/216.1 MB 3.9 MB/s eta 0:00:52\n",
      "   --- ------------------------------------ 17.6/216.1 MB 3.9 MB/s eta 0:00:51\n",
      "   --- ------------------------------------ 18.4/216.1 MB 3.9 MB/s eta 0:00:51\n",
      "   --- ------------------------------------ 19.1/216.1 MB 3.9 MB/s eta 0:00:51\n",
      "   --- ------------------------------------ 19.9/216.1 MB 3.9 MB/s eta 0:00:51\n",
      "   --- ------------------------------------ 20.7/216.1 MB 3.9 MB/s eta 0:00:51\n",
      "   ---- ----------------------------------- 21.8/216.1 MB 3.9 MB/s eta 0:00:50\n",
      "   ---- ----------------------------------- 22.5/216.1 MB 3.9 MB/s eta 0:00:50\n",
      "   ---- ----------------------------------- 23.3/216.1 MB 3.9 MB/s eta 0:00:50\n",
      "   ---- ----------------------------------- 24.1/216.1 MB 3.9 MB/s eta 0:00:50\n",
      "   ---- ----------------------------------- 25.2/216.1 MB 3.9 MB/s eta 0:00:49\n",
      "   ---- ----------------------------------- 26.0/216.1 MB 3.9 MB/s eta 0:00:49\n",
      "   ---- ----------------------------------- 26.7/216.1 MB 3.9 MB/s eta 0:00:49\n",
      "   ----- ---------------------------------- 27.5/216.1 MB 3.9 MB/s eta 0:00:49\n",
      "   ----- ---------------------------------- 28.3/216.1 MB 3.9 MB/s eta 0:00:49\n",
      "   ----- ---------------------------------- 29.1/216.1 MB 3.9 MB/s eta 0:00:48\n",
      "   ----- ---------------------------------- 30.1/216.1 MB 3.9 MB/s eta 0:00:48\n",
      "   ----- ---------------------------------- 30.9/216.1 MB 3.9 MB/s eta 0:00:48\n",
      "   ----- ---------------------------------- 31.7/216.1 MB 3.9 MB/s eta 0:00:48\n",
      "   ------ --------------------------------- 32.5/216.1 MB 3.9 MB/s eta 0:00:48\n",
      "   ------ --------------------------------- 33.3/216.1 MB 3.9 MB/s eta 0:00:47\n",
      "   ------ --------------------------------- 34.1/216.1 MB 3.9 MB/s eta 0:00:47\n",
      "   ------ --------------------------------- 35.1/216.1 MB 3.9 MB/s eta 0:00:47\n",
      "   ------ --------------------------------- 35.9/216.1 MB 3.9 MB/s eta 0:00:47\n",
      "   ------ --------------------------------- 36.7/216.1 MB 3.9 MB/s eta 0:00:47\n",
      "   ------ --------------------------------- 37.5/216.1 MB 3.9 MB/s eta 0:00:46\n",
      "   ------- -------------------------------- 38.5/216.1 MB 3.9 MB/s eta 0:00:46\n",
      "   ------- -------------------------------- 39.3/216.1 MB 3.9 MB/s eta 0:00:46\n",
      "   ------- -------------------------------- 40.1/216.1 MB 3.9 MB/s eta 0:00:46\n",
      "   ------- -------------------------------- 40.9/216.1 MB 3.9 MB/s eta 0:00:45\n",
      "   ------- -------------------------------- 41.7/216.1 MB 3.9 MB/s eta 0:00:45\n",
      "   ------- -------------------------------- 42.5/216.1 MB 3.9 MB/s eta 0:00:45\n",
      "   -------- ------------------------------- 43.5/216.1 MB 3.9 MB/s eta 0:00:45\n",
      "   -------- ------------------------------- 44.3/216.1 MB 3.9 MB/s eta 0:00:45\n",
      "   -------- ------------------------------- 45.1/216.1 MB 3.9 MB/s eta 0:00:44\n",
      "   -------- ------------------------------- 45.9/216.1 MB 3.9 MB/s eta 0:00:44\n",
      "   -------- ------------------------------- 46.7/216.1 MB 3.9 MB/s eta 0:00:44\n",
      "   -------- ------------------------------- 47.4/216.1 MB 3.9 MB/s eta 0:00:44\n",
      "   -------- ------------------------------- 48.5/216.1 MB 3.9 MB/s eta 0:00:44\n",
      "   --------- ------------------------------ 49.3/216.1 MB 3.9 MB/s eta 0:00:43\n",
      "   --------- ------------------------------ 50.1/216.1 MB 3.9 MB/s eta 0:00:43\n",
      "   --------- ------------------------------ 50.9/216.1 MB 3.9 MB/s eta 0:00:43\n",
      "   --------- ------------------------------ 51.6/216.1 MB 3.9 MB/s eta 0:00:43\n",
      "   --------- ------------------------------ 52.4/216.1 MB 3.9 MB/s eta 0:00:43\n",
      "   --------- ------------------------------ 53.5/216.1 MB 3.9 MB/s eta 0:00:42\n",
      "   ---------- ----------------------------- 54.3/216.1 MB 3.9 MB/s eta 0:00:42\n",
      "   ---------- ----------------------------- 55.1/216.1 MB 3.9 MB/s eta 0:00:42\n",
      "   ---------- ----------------------------- 55.8/216.1 MB 3.9 MB/s eta 0:00:42\n",
      "   ---------- ----------------------------- 56.6/216.1 MB 3.9 MB/s eta 0:00:41\n",
      "   ---------- ----------------------------- 57.4/216.1 MB 3.9 MB/s eta 0:00:41\n",
      "   ---------- ----------------------------- 58.2/216.1 MB 3.9 MB/s eta 0:00:41\n",
      "   ---------- ----------------------------- 59.2/216.1 MB 3.9 MB/s eta 0:00:41\n",
      "   ----------- ---------------------------- 60.0/216.1 MB 3.9 MB/s eta 0:00:41\n",
      "   ----------- ---------------------------- 60.8/216.1 MB 3.9 MB/s eta 0:00:40\n",
      "   ----------- ---------------------------- 61.6/216.1 MB 3.9 MB/s eta 0:00:40\n",
      "   ----------- ---------------------------- 62.4/216.1 MB 3.9 MB/s eta 0:00:40\n",
      "   ----------- ---------------------------- 63.2/216.1 MB 3.9 MB/s eta 0:00:40\n",
      "   ----------- ---------------------------- 64.2/216.1 MB 3.9 MB/s eta 0:00:40\n",
      "   ------------ --------------------------- 65.0/216.1 MB 3.9 MB/s eta 0:00:39\n",
      "   ------------ --------------------------- 65.8/216.1 MB 3.9 MB/s eta 0:00:39\n",
      "   ------------ --------------------------- 66.6/216.1 MB 3.9 MB/s eta 0:00:39\n",
      "   ------------ --------------------------- 67.4/216.1 MB 3.9 MB/s eta 0:00:39\n",
      "   ------------ --------------------------- 68.2/216.1 MB 3.9 MB/s eta 0:00:39\n",
      "   ------------ --------------------------- 68.9/216.1 MB 3.9 MB/s eta 0:00:38\n",
      "   ------------ --------------------------- 69.7/216.1 MB 3.9 MB/s eta 0:00:38\n",
      "   ------------- -------------------------- 70.8/216.1 MB 3.9 MB/s eta 0:00:38\n",
      "   ------------- -------------------------- 71.6/216.1 MB 3.9 MB/s eta 0:00:38\n",
      "   ------------- -------------------------- 72.4/216.1 MB 3.9 MB/s eta 0:00:37\n",
      "   ------------- -------------------------- 73.1/216.1 MB 3.9 MB/s eta 0:00:37\n",
      "   ------------- -------------------------- 73.9/216.1 MB 3.9 MB/s eta 0:00:37\n",
      "   ------------- -------------------------- 74.7/216.1 MB 3.9 MB/s eta 0:00:37\n",
      "   -------------- ------------------------- 75.8/216.1 MB 3.9 MB/s eta 0:00:37\n",
      "   -------------- ------------------------- 76.5/216.1 MB 3.9 MB/s eta 0:00:36\n",
      "   -------------- ------------------------- 77.3/216.1 MB 3.9 MB/s eta 0:00:36\n",
      "   -------------- ------------------------- 78.1/216.1 MB 3.9 MB/s eta 0:00:36\n",
      "   -------------- ------------------------- 78.9/216.1 MB 3.9 MB/s eta 0:00:36\n",
      "   -------------- ------------------------- 79.7/216.1 MB 3.9 MB/s eta 0:00:36\n",
      "   -------------- ------------------------- 80.7/216.1 MB 3.9 MB/s eta 0:00:35\n",
      "   --------------- ------------------------ 81.5/216.1 MB 3.9 MB/s eta 0:00:35\n",
      "   --------------- ------------------------ 82.3/216.1 MB 3.9 MB/s eta 0:00:35\n",
      "   --------------- ------------------------ 83.1/216.1 MB 3.9 MB/s eta 0:00:35\n",
      "   --------------- ------------------------ 83.9/216.1 MB 3.9 MB/s eta 0:00:34\n",
      "   --------------- ------------------------ 84.7/216.1 MB 3.9 MB/s eta 0:00:34\n",
      "   --------------- ------------------------ 85.5/216.1 MB 3.9 MB/s eta 0:00:34\n",
      "   --------------- ------------------------ 86.2/216.1 MB 3.9 MB/s eta 0:00:34\n",
      "   ---------------- ----------------------- 87.3/216.1 MB 3.9 MB/s eta 0:00:34\n",
      "   ---------------- ----------------------- 88.1/216.1 MB 3.9 MB/s eta 0:00:33\n",
      "   ---------------- ----------------------- 88.9/216.1 MB 3.9 MB/s eta 0:00:33\n",
      "   ---------------- ----------------------- 89.7/216.1 MB 3.9 MB/s eta 0:00:33\n",
      "   ---------------- ----------------------- 90.4/216.1 MB 3.9 MB/s eta 0:00:33\n",
      "   ---------------- ----------------------- 91.2/216.1 MB 3.9 MB/s eta 0:00:33\n",
      "   ----------------- ---------------------- 92.0/216.1 MB 3.9 MB/s eta 0:00:32\n",
      "   ----------------- ---------------------- 93.1/216.1 MB 3.9 MB/s eta 0:00:32\n",
      "   ----------------- ---------------------- 93.8/216.1 MB 3.9 MB/s eta 0:00:32\n",
      "   ----------------- ---------------------- 94.6/216.1 MB 3.9 MB/s eta 0:00:32\n",
      "   ----------------- ---------------------- 95.4/216.1 MB 3.9 MB/s eta 0:00:32\n",
      "   ----------------- ---------------------- 96.5/216.1 MB 3.9 MB/s eta 0:00:31\n",
      "   ------------------ --------------------- 97.3/216.1 MB 3.9 MB/s eta 0:00:31\n",
      "   ------------------ --------------------- 98.0/216.1 MB 3.9 MB/s eta 0:00:31\n",
      "   ------------------ --------------------- 98.8/216.1 MB 3.9 MB/s eta 0:00:31\n",
      "   ------------------ --------------------- 99.6/216.1 MB 3.9 MB/s eta 0:00:30\n",
      "   ------------------ --------------------- 100.4/216.1 MB 3.9 MB/s eta 0:00:30\n",
      "   ------------------ --------------------- 101.2/216.1 MB 3.9 MB/s eta 0:00:30\n",
      "   ------------------ --------------------- 102.0/216.1 MB 3.9 MB/s eta 0:00:30\n",
      "   ------------------- -------------------- 103.0/216.1 MB 3.9 MB/s eta 0:00:30\n",
      "   ------------------- -------------------- 103.8/216.1 MB 3.9 MB/s eta 0:00:29\n",
      "   ------------------- -------------------- 104.6/216.1 MB 3.9 MB/s eta 0:00:29\n",
      "   ------------------- -------------------- 105.1/216.1 MB 3.9 MB/s eta 0:00:29\n",
      "   ------------------- -------------------- 106.2/216.1 MB 3.9 MB/s eta 0:00:29\n",
      "   ------------------- -------------------- 107.0/216.1 MB 3.9 MB/s eta 0:00:29\n",
      "   ------------------- -------------------- 108.0/216.1 MB 3.9 MB/s eta 0:00:28\n",
      "   -------------------- ------------------- 108.8/216.1 MB 3.9 MB/s eta 0:00:28\n",
      "   -------------------- ------------------- 109.6/216.1 MB 3.9 MB/s eta 0:00:28\n",
      "   -------------------- ------------------- 110.4/216.1 MB 3.9 MB/s eta 0:00:28\n",
      "   -------------------- ------------------- 111.1/216.1 MB 3.9 MB/s eta 0:00:27\n",
      "   -------------------- ------------------- 111.9/216.1 MB 3.9 MB/s eta 0:00:27\n",
      "   -------------------- ------------------- 112.7/216.1 MB 3.9 MB/s eta 0:00:27\n",
      "   --------------------- ------------------ 113.8/216.1 MB 3.9 MB/s eta 0:00:27\n",
      "   --------------------- ------------------ 114.6/216.1 MB 3.9 MB/s eta 0:00:27\n",
      "   --------------------- ------------------ 115.3/216.1 MB 3.9 MB/s eta 0:00:26\n",
      "   --------------------- ------------------ 116.1/216.1 MB 3.9 MB/s eta 0:00:26\n",
      "   --------------------- ------------------ 116.9/216.1 MB 3.9 MB/s eta 0:00:26\n",
      "   --------------------- ------------------ 117.7/216.1 MB 3.9 MB/s eta 0:00:26\n",
      "   --------------------- ------------------ 118.8/216.1 MB 3.9 MB/s eta 0:00:26\n",
      "   ---------------------- ----------------- 119.5/216.1 MB 3.9 MB/s eta 0:00:25\n",
      "   ---------------------- ----------------- 120.3/216.1 MB 3.9 MB/s eta 0:00:25\n",
      "   ---------------------- ----------------- 121.1/216.1 MB 3.9 MB/s eta 0:00:25\n",
      "   ---------------------- ----------------- 121.9/216.1 MB 3.9 MB/s eta 0:00:25\n",
      "   ---------------------- ----------------- 122.7/216.1 MB 3.9 MB/s eta 0:00:25\n",
      "   ---------------------- ----------------- 123.2/216.1 MB 3.9 MB/s eta 0:00:24\n",
      "   ----------------------- ---------------- 124.5/216.1 MB 3.9 MB/s eta 0:00:24\n",
      "   ----------------------- ---------------- 125.3/216.1 MB 3.9 MB/s eta 0:00:24\n",
      "   ----------------------- ---------------- 126.1/216.1 MB 3.9 MB/s eta 0:00:24\n",
      "   ----------------------- ---------------- 126.9/216.1 MB 3.9 MB/s eta 0:00:23\n",
      "   ----------------------- ---------------- 127.7/216.1 MB 3.9 MB/s eta 0:00:23\n",
      "   ----------------------- ---------------- 128.5/216.1 MB 3.9 MB/s eta 0:00:23\n",
      "   ----------------------- ---------------- 129.2/216.1 MB 3.9 MB/s eta 0:00:23\n",
      "   ------------------------ --------------- 130.0/216.1 MB 3.9 MB/s eta 0:00:23\n",
      "   ------------------------ --------------- 130.8/216.1 MB 3.9 MB/s eta 0:00:22\n",
      "   ------------------------ --------------- 131.6/216.1 MB 3.9 MB/s eta 0:00:22\n",
      "   ------------------------ --------------- 132.6/216.1 MB 3.9 MB/s eta 0:00:22\n",
      "   ------------------------ --------------- 133.4/216.1 MB 3.9 MB/s eta 0:00:22\n",
      "   ------------------------ --------------- 134.2/216.1 MB 3.9 MB/s eta 0:00:22\n",
      "   ------------------------ --------------- 135.0/216.1 MB 3.9 MB/s eta 0:00:21\n",
      "   ------------------------- -------------- 135.8/216.1 MB 3.9 MB/s eta 0:00:21\n",
      "   ------------------------- -------------- 136.6/216.1 MB 3.9 MB/s eta 0:00:21\n",
      "   ------------------------- -------------- 137.6/216.1 MB 3.9 MB/s eta 0:00:21\n",
      "   ------------------------- -------------- 138.4/216.1 MB 3.9 MB/s eta 0:00:20\n",
      "   ------------------------- -------------- 139.2/216.1 MB 3.9 MB/s eta 0:00:20\n",
      "   ------------------------- -------------- 140.0/216.1 MB 3.9 MB/s eta 0:00:20\n",
      "   -------------------------- ------------- 140.8/216.1 MB 3.9 MB/s eta 0:00:20\n",
      "   -------------------------- ------------- 141.6/216.1 MB 3.9 MB/s eta 0:00:20\n",
      "   -------------------------- ------------- 142.3/216.1 MB 3.9 MB/s eta 0:00:19\n",
      "   -------------------------- ------------- 143.4/216.1 MB 3.9 MB/s eta 0:00:19\n",
      "   -------------------------- ------------- 144.2/216.1 MB 3.9 MB/s eta 0:00:19\n",
      "   -------------------------- ------------- 145.0/216.1 MB 3.9 MB/s eta 0:00:19\n",
      "   -------------------------- ------------- 145.8/216.1 MB 3.9 MB/s eta 0:00:19\n",
      "   --------------------------- ------------ 146.5/216.1 MB 3.9 MB/s eta 0:00:18\n",
      "   --------------------------- ------------ 147.3/216.1 MB 3.9 MB/s eta 0:00:18\n",
      "   --------------------------- ------------ 148.4/216.1 MB 3.9 MB/s eta 0:00:18\n",
      "   --------------------------- ------------ 149.2/216.1 MB 3.9 MB/s eta 0:00:18\n",
      "   --------------------------- ------------ 149.9/216.1 MB 3.9 MB/s eta 0:00:18\n",
      "   --------------------------- ------------ 150.7/216.1 MB 3.9 MB/s eta 0:00:17\n",
      "   ---------------------------- ----------- 151.5/216.1 MB 3.9 MB/s eta 0:00:17\n",
      "   ---------------------------- ----------- 152.6/216.1 MB 3.9 MB/s eta 0:00:17\n",
      "   ---------------------------- ----------- 153.4/216.1 MB 3.9 MB/s eta 0:00:17\n",
      "   ---------------------------- ----------- 154.1/216.1 MB 3.9 MB/s eta 0:00:16\n",
      "   ---------------------------- ----------- 154.9/216.1 MB 3.9 MB/s eta 0:00:16\n",
      "   ---------------------------- ----------- 155.7/216.1 MB 3.9 MB/s eta 0:00:16\n",
      "   ---------------------------- ----------- 156.5/216.1 MB 3.9 MB/s eta 0:00:16\n",
      "   ----------------------------- ---------- 157.5/216.1 MB 3.9 MB/s eta 0:00:16\n",
      "   ----------------------------- ---------- 158.3/216.1 MB 3.9 MB/s eta 0:00:15\n",
      "   ----------------------------- ---------- 159.1/216.1 MB 3.9 MB/s eta 0:00:15\n",
      "   ----------------------------- ---------- 159.9/216.1 MB 3.9 MB/s eta 0:00:15\n",
      "   ----------------------------- ---------- 160.7/216.1 MB 3.9 MB/s eta 0:00:15\n",
      "   ----------------------------- ---------- 161.7/216.1 MB 3.9 MB/s eta 0:00:14\n",
      "   ------------------------------ --------- 162.5/216.1 MB 3.9 MB/s eta 0:00:14\n",
      "   ------------------------------ --------- 163.3/216.1 MB 3.9 MB/s eta 0:00:14\n",
      "   ------------------------------ --------- 164.1/216.1 MB 3.9 MB/s eta 0:00:14\n",
      "   ------------------------------ --------- 164.9/216.1 MB 3.9 MB/s eta 0:00:14\n",
      "   ------------------------------ --------- 165.7/216.1 MB 3.9 MB/s eta 0:00:13\n",
      "   ------------------------------ --------- 166.7/216.1 MB 3.9 MB/s eta 0:00:13\n",
      "   ------------------------------- -------- 167.5/216.1 MB 3.9 MB/s eta 0:00:13\n",
      "   ------------------------------- -------- 168.3/216.1 MB 3.9 MB/s eta 0:00:13\n",
      "   ------------------------------- -------- 169.1/216.1 MB 3.9 MB/s eta 0:00:13\n",
      "   ------------------------------- -------- 169.9/216.1 MB 3.9 MB/s eta 0:00:12\n",
      "   ------------------------------- -------- 170.7/216.1 MB 3.9 MB/s eta 0:00:12\n",
      "   ------------------------------- -------- 171.4/216.1 MB 3.9 MB/s eta 0:00:12\n",
      "   ------------------------------- -------- 172.2/216.1 MB 3.9 MB/s eta 0:00:12\n",
      "   -------------------------------- ------- 173.0/216.1 MB 3.9 MB/s eta 0:00:12\n",
      "   -------------------------------- ------- 173.8/216.1 MB 3.9 MB/s eta 0:00:11\n",
      "   -------------------------------- ------- 174.9/216.1 MB 3.9 MB/s eta 0:00:11\n",
      "   -------------------------------- ------- 175.6/216.1 MB 3.9 MB/s eta 0:00:11\n",
      "   -------------------------------- ------- 176.4/216.1 MB 3.9 MB/s eta 0:00:11\n",
      "   -------------------------------- ------- 177.2/216.1 MB 3.9 MB/s eta 0:00:10\n",
      "   -------------------------------- ------- 178.0/216.1 MB 3.9 MB/s eta 0:00:10\n",
      "   --------------------------------- ------ 178.8/216.1 MB 3.9 MB/s eta 0:00:10\n",
      "   --------------------------------- ------ 179.6/216.1 MB 3.9 MB/s eta 0:00:10\n",
      "   --------------------------------- ------ 180.6/216.1 MB 3.9 MB/s eta 0:00:10\n",
      "   --------------------------------- ------ 181.4/216.1 MB 3.9 MB/s eta 0:00:09\n",
      "   --------------------------------- ------ 181.9/216.1 MB 3.9 MB/s eta 0:00:09\n",
      "   --------------------------------- ------ 183.0/216.1 MB 3.9 MB/s eta 0:00:09\n",
      "   ---------------------------------- ----- 183.8/216.1 MB 3.9 MB/s eta 0:00:09\n",
      "   ---------------------------------- ----- 184.5/216.1 MB 3.9 MB/s eta 0:00:09\n",
      "   ---------------------------------- ----- 185.3/216.1 MB 3.9 MB/s eta 0:00:08\n",
      "   ---------------------------------- ----- 186.1/216.1 MB 3.9 MB/s eta 0:00:08\n",
      "   ---------------------------------- ----- 186.9/216.1 MB 3.9 MB/s eta 0:00:08\n",
      "   ---------------------------------- ----- 188.0/216.1 MB 3.9 MB/s eta 0:00:08\n",
      "   ---------------------------------- ----- 188.7/216.1 MB 3.9 MB/s eta 0:00:08\n",
      "   ----------------------------------- ---- 189.5/216.1 MB 3.9 MB/s eta 0:00:07\n",
      "   ----------------------------------- ---- 190.3/216.1 MB 3.9 MB/s eta 0:00:07\n",
      "   ----------------------------------- ---- 191.4/216.1 MB 3.9 MB/s eta 0:00:07\n",
      "   ----------------------------------- ---- 192.2/216.1 MB 3.9 MB/s eta 0:00:07\n",
      "   ----------------------------------- ---- 192.9/216.1 MB 3.9 MB/s eta 0:00:06\n",
      "   ----------------------------------- ---- 193.7/216.1 MB 3.9 MB/s eta 0:00:06\n",
      "   ------------------------------------ --- 194.5/216.1 MB 3.9 MB/s eta 0:00:06\n",
      "   ------------------------------------ --- 195.3/216.1 MB 3.9 MB/s eta 0:00:06\n",
      "   ------------------------------------ --- 196.3/216.1 MB 3.9 MB/s eta 0:00:06\n",
      "   ------------------------------------ --- 197.1/216.1 MB 3.9 MB/s eta 0:00:05\n",
      "   ------------------------------------ --- 197.9/216.1 MB 3.9 MB/s eta 0:00:05\n",
      "   ------------------------------------ --- 198.7/216.1 MB 3.9 MB/s eta 0:00:05\n",
      "   ------------------------------------ --- 199.5/216.1 MB 3.9 MB/s eta 0:00:05\n",
      "   ------------------------------------- -- 200.3/216.1 MB 3.9 MB/s eta 0:00:05\n",
      "   ------------------------------------- -- 201.1/216.1 MB 3.9 MB/s eta 0:00:04\n",
      "   ------------------------------------- -- 201.9/216.1 MB 3.9 MB/s eta 0:00:04\n",
      "   ------------------------------------- -- 202.9/216.1 MB 3.9 MB/s eta 0:00:04\n",
      "   ------------------------------------- -- 203.7/216.1 MB 3.9 MB/s eta 0:00:04\n",
      "   ------------------------------------- -- 204.5/216.1 MB 3.9 MB/s eta 0:00:03\n",
      "   -------------------------------------- - 205.3/216.1 MB 3.9 MB/s eta 0:00:03\n",
      "   -------------------------------------- - 206.0/216.1 MB 3.9 MB/s eta 0:00:03\n",
      "   -------------------------------------- - 206.8/216.1 MB 3.9 MB/s eta 0:00:03\n",
      "   -------------------------------------- - 207.6/216.1 MB 3.9 MB/s eta 0:00:03\n",
      "   -------------------------------------- - 208.7/216.1 MB 3.9 MB/s eta 0:00:02\n",
      "   -------------------------------------- - 209.5/216.1 MB 3.9 MB/s eta 0:00:02\n",
      "   -------------------------------------- - 210.2/216.1 MB 3.9 MB/s eta 0:00:02\n",
      "   ---------------------------------------  211.0/216.1 MB 3.9 MB/s eta 0:00:02\n",
      "   ---------------------------------------  211.8/216.1 MB 3.9 MB/s eta 0:00:02\n",
      "   ---------------------------------------  212.6/216.1 MB 3.9 MB/s eta 0:00:01\n",
      "   ---------------------------------------  213.4/216.1 MB 3.9 MB/s eta 0:00:01\n",
      "   ---------------------------------------  214.2/216.1 MB 3.9 MB/s eta 0:00:01\n",
      "   ---------------------------------------  215.2/216.1 MB 3.9 MB/s eta 0:00:01\n",
      "   ---------------------------------------  216.0/216.1 MB 3.9 MB/s eta 0:00:01\n",
      "   ---------------------------------------  216.0/216.1 MB 3.9 MB/s eta 0:00:01\n",
      "   ---------------------------------------  216.0/216.1 MB 3.9 MB/s eta 0:00:01\n",
      "   ---------------------------------------  216.0/216.1 MB 3.9 MB/s eta 0:00:01\n",
      "   ---------------------------------------- 216.1/216.1 MB 3.8 MB/s eta 0:00:00\n",
      "Downloading transformers-4.54.1-py3-none-any.whl (11.2 MB)\n",
      "   ---------------------------------------- 0.0/11.2 MB ? eta -:--:--\n",
      "   --- ------------------------------------ 1.0/11.2 MB 6.3 MB/s eta 0:00:02\n",
      "   ------ --------------------------------- 1.8/11.2 MB 4.6 MB/s eta 0:00:03\n",
      "   --------- ------------------------------ 2.6/11.2 MB 4.3 MB/s eta 0:00:02\n",
      "   ------------- -------------------------- 3.7/11.2 MB 4.2 MB/s eta 0:00:02\n",
      "   --------------- ------------------------ 4.5/11.2 MB 4.1 MB/s eta 0:00:02\n",
      "   ------------------ --------------------- 5.2/11.2 MB 4.1 MB/s eta 0:00:02\n",
      "   --------------------- ------------------ 6.0/11.2 MB 4.1 MB/s eta 0:00:02\n",
      "   ------------------------ --------------- 6.8/11.2 MB 4.0 MB/s eta 0:00:02\n",
      "   -------------------------- ------------- 7.3/11.2 MB 3.8 MB/s eta 0:00:02\n",
      "   ------------------------------ --------- 8.4/11.2 MB 4.0 MB/s eta 0:00:01\n",
      "   --------------------------------- ------ 9.4/11.2 MB 4.0 MB/s eta 0:00:01\n",
      "   ------------------------------------ --- 10.2/11.2 MB 4.0 MB/s eta 0:00:01\n",
      "   ---------------------------------------  11.0/11.2 MB 4.0 MB/s eta 0:00:01\n",
      "   ---------------------------------------- 11.2/11.2 MB 3.9 MB/s eta 0:00:00\n",
      "Using cached safetensors-0.5.3-cp38-abi3-win_amd64.whl (308 kB)\n",
      "Using cached sympy-1.14.0-py3-none-any.whl (6.3 MB)\n",
      "Downloading tokenizers-0.21.4-cp39-abi3-win_amd64.whl (2.5 MB)\n",
      "   ---------------------------------------- 0.0/2.5 MB ? eta -:--:--\n",
      "   ---------------- ----------------------- 1.0/2.5 MB 6.3 MB/s eta 0:00:01\n",
      "   ----------------------------- ---------- 1.8/2.5 MB 4.8 MB/s eta 0:00:01\n",
      "   ---------------------------------------- 2.5/2.5 MB 4.4 MB/s eta 0:00:00\n",
      "Installing collected packages: sympy, safetensors, torch, huggingface-hub, tokenizers, transformers, sentence-transformers\n",
      "  Attempting uninstall: sympy\n",
      "    Found existing installation: sympy 1.13.2\n",
      "    Uninstalling sympy-1.13.2:\n",
      "      Successfully uninstalled sympy-1.13.2\n",
      "Successfully installed huggingface-hub-0.34.3 safetensors-0.5.3 sentence-transformers-5.0.0 sympy-1.14.0 tokenizers-0.21.4 torch-2.7.1 transformers-4.54.1\n"
     ]
    }
   ],
   "source": [
    "!pip install sentence-transformers\n",
    "\n"
   ]
  },
  {
   "cell_type": "code",
   "execution_count": 7,
   "id": "7699ac06",
   "metadata": {},
   "outputs": [],
   "source": [
    "from langchain.embeddings import OpenAIEmbeddings\n",
    "embedding_model = OpenAIEmbeddings()\n"
   ]
  },
  {
   "cell_type": "code",
   "execution_count": 8,
   "id": "52f207cb",
   "metadata": {},
   "outputs": [
    {
     "name": "stderr",
     "output_type": "stream",
     "text": [
      "C:\\Users\\DELL\\AppData\\Local\\Temp\\ipykernel_19932\\1143621719.py:3: LangChainDeprecationWarning: The class `HuggingFaceEmbeddings` was deprecated in LangChain 0.2.2 and will be removed in 1.0. An updated version of the class exists in the :class:`~langchain-huggingface package and should be used instead. To use it run `pip install -U :class:`~langchain-huggingface` and import as `from :class:`~langchain_huggingface import HuggingFaceEmbeddings``.\n",
      "  embedding_model = HuggingFaceEmbeddings(model_name=\"all-MiniLM-L6-v2\")\n"
     ]
    },
    {
     "data": {
      "application/vnd.jupyter.widget-view+json": {
       "model_id": "4a0fa20252ea49389582cab642d637ff",
       "version_major": 2,
       "version_minor": 0
      },
      "text/plain": [
       "modules.json:   0%|          | 0.00/349 [00:00<?, ?B/s]"
      ]
     },
     "metadata": {},
     "output_type": "display_data"
    },
    {
     "name": "stderr",
     "output_type": "stream",
     "text": [
      "c:\\Users\\DELL\\anaconda3\\Lib\\site-packages\\huggingface_hub\\file_download.py:143: UserWarning: `huggingface_hub` cache-system uses symlinks by default to efficiently store duplicated files but your machine does not support them in C:\\Users\\DELL\\.cache\\huggingface\\hub\\models--sentence-transformers--all-MiniLM-L6-v2. Caching files will still work but in a degraded version that might require more space on your disk. This warning can be disabled by setting the `HF_HUB_DISABLE_SYMLINKS_WARNING` environment variable. For more details, see https://huggingface.co/docs/huggingface_hub/how-to-cache#limitations.\n",
      "To support symlinks on Windows, you either need to activate Developer Mode or to run Python as an administrator. In order to activate developer mode, see this article: https://docs.microsoft.com/en-us/windows/apps/get-started/enable-your-device-for-development\n",
      "  warnings.warn(message)\n"
     ]
    },
    {
     "data": {
      "application/vnd.jupyter.widget-view+json": {
       "model_id": "328202db94b54fe183247429801643d6",
       "version_major": 2,
       "version_minor": 0
      },
      "text/plain": [
       "config_sentence_transformers.json:   0%|          | 0.00/116 [00:00<?, ?B/s]"
      ]
     },
     "metadata": {},
     "output_type": "display_data"
    },
    {
     "data": {
      "application/vnd.jupyter.widget-view+json": {
       "model_id": "338494e9a29f4633bdba07349f679af2",
       "version_major": 2,
       "version_minor": 0
      },
      "text/plain": [
       "README.md: 0.00B [00:00, ?B/s]"
      ]
     },
     "metadata": {},
     "output_type": "display_data"
    },
    {
     "data": {
      "application/vnd.jupyter.widget-view+json": {
       "model_id": "380a1a7b4845419693a0d8910c6a51a0",
       "version_major": 2,
       "version_minor": 0
      },
      "text/plain": [
       "sentence_bert_config.json:   0%|          | 0.00/53.0 [00:00<?, ?B/s]"
      ]
     },
     "metadata": {},
     "output_type": "display_data"
    },
    {
     "data": {
      "application/vnd.jupyter.widget-view+json": {
       "model_id": "262c9e1ea7c144cfa464d797b5e3b4ed",
       "version_major": 2,
       "version_minor": 0
      },
      "text/plain": [
       "config.json:   0%|          | 0.00/612 [00:00<?, ?B/s]"
      ]
     },
     "metadata": {},
     "output_type": "display_data"
    },
    {
     "name": "stderr",
     "output_type": "stream",
     "text": [
      "Xet Storage is enabled for this repo, but the 'hf_xet' package is not installed. Falling back to regular HTTP download. For better performance, install the package with: `pip install huggingface_hub[hf_xet]` or `pip install hf_xet`\n"
     ]
    },
    {
     "data": {
      "application/vnd.jupyter.widget-view+json": {
       "model_id": "a32a26b1bff543abb4c2c4fb120e2a60",
       "version_major": 2,
       "version_minor": 0
      },
      "text/plain": [
       "model.safetensors:   0%|          | 0.00/90.9M [00:00<?, ?B/s]"
      ]
     },
     "metadata": {},
     "output_type": "display_data"
    },
    {
     "data": {
      "application/vnd.jupyter.widget-view+json": {
       "model_id": "0c08639794c643fe91e905e25794431b",
       "version_major": 2,
       "version_minor": 0
      },
      "text/plain": [
       "tokenizer_config.json:   0%|          | 0.00/350 [00:00<?, ?B/s]"
      ]
     },
     "metadata": {},
     "output_type": "display_data"
    },
    {
     "data": {
      "application/vnd.jupyter.widget-view+json": {
       "model_id": "422870c4b1b04ffe8929239c341661cf",
       "version_major": 2,
       "version_minor": 0
      },
      "text/plain": [
       "vocab.txt: 0.00B [00:00, ?B/s]"
      ]
     },
     "metadata": {},
     "output_type": "display_data"
    },
    {
     "data": {
      "application/vnd.jupyter.widget-view+json": {
       "model_id": "f771ae78340949979665a2284173dbbf",
       "version_major": 2,
       "version_minor": 0
      },
      "text/plain": [
       "tokenizer.json: 0.00B [00:00, ?B/s]"
      ]
     },
     "metadata": {},
     "output_type": "display_data"
    },
    {
     "data": {
      "application/vnd.jupyter.widget-view+json": {
       "model_id": "77044bcb940f4786b8afc651bfca0006",
       "version_major": 2,
       "version_minor": 0
      },
      "text/plain": [
       "special_tokens_map.json:   0%|          | 0.00/112 [00:00<?, ?B/s]"
      ]
     },
     "metadata": {},
     "output_type": "display_data"
    },
    {
     "data": {
      "application/vnd.jupyter.widget-view+json": {
       "model_id": "1afcc6fc1b6241e19a916060f28f9d89",
       "version_major": 2,
       "version_minor": 0
      },
      "text/plain": [
       "config.json:   0%|          | 0.00/190 [00:00<?, ?B/s]"
      ]
     },
     "metadata": {},
     "output_type": "display_data"
    }
   ],
   "source": [
    "from langchain.embeddings import HuggingFaceEmbeddings\n",
    "\n",
    "embedding_model = HuggingFaceEmbeddings(model_name=\"all-MiniLM-L6-v2\")\n"
   ]
  },
  {
   "cell_type": "code",
   "execution_count": 10,
   "id": "48d90fcd",
   "metadata": {},
   "outputs": [
    {
     "name": "stderr",
     "output_type": "stream",
     "text": [
      "c:\\Users\\DELL\\anaconda3\\Lib\\site-packages\\torch\\nn\\modules\\module.py:1762: FutureWarning: `encoder_attention_mask` is deprecated and will be removed in version 4.55.0 for `BertSdpaSelfAttention.forward`.\n",
      "  return forward_call(*args, **kwargs)\n"
     ]
    }
   ],
   "source": [
    "from langchain.document_loaders import PyMuPDFLoader\n",
    "from langchain.text_splitter import RecursiveCharacterTextSplitter\n",
    "from langchain.embeddings import HuggingFaceEmbeddings\n",
    "from langchain.vectorstores import FAISS\n",
    "\n",
    "# Load PDF\n",
    "loader = PyMuPDFLoader(\"mydoc.pdf\")\n",
    "documents = loader.load()\n",
    "\n",
    "# Split text\n",
    "text_splitter = RecursiveCharacterTextSplitter(chunk_size=1000, chunk_overlap=100)\n",
    "chunks = text_splitter.split_documents(documents)\n",
    "\n",
    "# Use Hugging Face model\n",
    "embedding_model = HuggingFaceEmbeddings(model_name=\"all-MiniLM-L6-v2\")\n",
    "\n",
    "# Create and save vectorstore\n",
    "vectorstore = FAISS.from_documents(chunks, embedding_model)\n",
    "vectorstore.save_local(\"faiss_index\")\n"
   ]
  }
 ],
 "metadata": {
  "kernelspec": {
   "display_name": "base",
   "language": "python",
   "name": "python3"
  },
  "language_info": {
   "codemirror_mode": {
    "name": "ipython",
    "version": 3
   },
   "file_extension": ".py",
   "mimetype": "text/x-python",
   "name": "python",
   "nbconvert_exporter": "python",
   "pygments_lexer": "ipython3",
   "version": "3.12.7"
  }
 },
 "nbformat": 4,
 "nbformat_minor": 5
}
